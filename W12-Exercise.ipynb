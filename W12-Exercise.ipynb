{
 "cells": [
  {
   "cell_type": "markdown",
   "metadata": {},
   "source": [
    "# W12 - Exercise\n",
    "\n",
    "use the dataset __healthcare_dataset__ for this exercise\n",
    "\n",
    "Column details: <br>\n",
    "- **Name**: This column represents the name of the patient associated with the healthcare record. <br>\n",
    "- **Age**: The age of the patient at the time of admission, expressed in years. <br>\n",
    "- **Gender**: Indicates the gender of the patient, either \"Male\" or \"Female.\"<br>\n",
    "- **Blood** Type: The patient's blood type, which can be one of the common blood types (e.g., \"A+\", \"O-\", etc.).<br>\n",
    "- **Medical** Condition: This column specifies the primary medical condition or diagnosis associated with the patient, such as \"Diabetes,\" \"Hypertension,\" \"Asthma,\" and more.<br>\n",
    "- **Date of Admission**: The date on which the patient was admitted to the healthcare facility.<br>\n",
    "- **Doctor**: The name of the doctor responsible for the patient's care during their admission.<br>\n",
    "- **Hospital**: Identifies the healthcare facility or hospital where the patient was admitted.<br>\n",
    "- **Insurance Provider**: This column indicates the patient's insurance provider, which can be one of several options, including \"Aetna,\" \"Blue Cross,\" \"Cigna,\" \"UnitedHealthcare,\" and \"Medicare.\"<br>\n",
    "- **Billing Amount**: The amount of money billed for the patient's healthcare services during their admission. This is expressed as a floating-point number.<br>\n",
    "- **Room Number**: The room number where the patient was accommodated during their admission.<br>\n",
    "- **Admission Type**: Specifies the type of admission, which can be \"Emergency,\" \"Elective,\" or \"Urgent,\" reflecting the circumstances of the admission.<br>\n",
    "- **Discharge Date**: The date on which the patient was discharged from the healthcare facility, based on the admission date and a random number of days within a realistic range.<br>\n",
    "- **Medication**: Identifies a medication prescribed or administered to the patient during their admission. Examples include \"Aspirin,\" \"Ibuprofen,\" \"Penicillin,\" \"Paracetamol,\" and \"Lipitor.\"<br>\n",
    "- **Test Results**: Describes the results of a medical test conducted during the patient's admission. Possible values include \"Normal,\" \"Abnormal,\" or \"Inconclusive,\" indicating the outcome of the test.<br>"
   ]
  },
  {
   "cell_type": "markdown",
   "metadata": {},
   "source": [
    "This exercise is applicable to multiple machine learning algorithms. Create EDA to visualize data and results and explore as far as you can.\n",
    "Task:\n",
    "1. Data Cleaning, Transformation\n",
    "2. Visualization (EDA)\n",
    "3. Use at least one machine learning techniques (Regression, Classification, Clustering)\n",
    "4. Use different modelling algorithm to compare results (XGBoost, KNN, Hierarchical, Apriori, Linear, Logistic, etc)\n",
    "\n",
    "This exercise is to test your willingness to explore, critical thinking and the knowledge when to use what algorithms to achieve a purpose. "
   ]
  },
  {
   "cell_type": "code",
   "execution_count": null,
   "metadata": {},
   "outputs": [],
   "source": [
    "healthcare = pd.read_csv('C:/School/customer_analysis.csv', sep='\\t')\n",
    "customer.head()"
   ]
  }
 ],
 "metadata": {
  "language_info": {
   "name": "python"
  }
 },
 "nbformat": 4,
 "nbformat_minor": 2
}
